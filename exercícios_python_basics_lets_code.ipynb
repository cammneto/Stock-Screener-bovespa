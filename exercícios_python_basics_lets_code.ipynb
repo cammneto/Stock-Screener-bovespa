{
  "nbformat": 4,
  "nbformat_minor": 0,
  "metadata": {
    "colab": {
      "provenance": [],
      "toc_visible": true,
      "collapsed_sections": [],
      "mount_file_id": "1yuk20AoGhVJ3DoeagC7QJ7dN0fRxV9Je",
      "authorship_tag": "ABX9TyNOo/jNvUM8Wb/yB2rnNVA5",
      "include_colab_link": true
    },
    "kernelspec": {
      "name": "python3",
      "display_name": "Python 3"
    },
    "language_info": {
      "name": "python"
    }
  },
  "cells": [
    {
      "cell_type": "markdown",
      "metadata": {
        "id": "view-in-github",
        "colab_type": "text"
      },
      "source": [
        "<a href=\"https://colab.research.google.com/github/cammneto/Stock-Screener-bovespa/blob/main/exerc%C3%ADcios_python_basics_lets_code.ipynb\" target=\"_parent\"><img src=\"https://colab.research.google.com/assets/colab-badge.svg\" alt=\"Open In Colab\"/></a>"
      ]
    },
    {
      "cell_type": "markdown",
      "source": [
        "# Módulo 1"
      ],
      "metadata": {
        "id": "dFSvlJh_Bolo"
      }
    },
    {
      "cell_type": "markdown",
      "source": [
        "## Exercício 1"
      ],
      "metadata": {
        "id": "lASto1jHiMSk"
      }
    },
    {
      "cell_type": "markdown",
      "source": [
        "Faça um programa que peça um valor monetário e diminua-o em 15%. Seu\n",
        "programa deve imprimir a mensagem “O novo valor é [valor]”."
      ],
      "metadata": {
        "id": "WBKg-gSIT93I"
      }
    },
    {
      "cell_type": "code",
      "source": [
        "valor = input('Digite o valor para ser calculado: R$')\n",
        "novo_valor = float(valor)*0.85\n",
        "print('O novo valor é R$', novo_valor)"
      ],
      "metadata": {
        "colab": {
          "base_uri": "https://localhost:8080/"
        },
        "id": "O7zDBqDOB_Fi",
        "outputId": "86559283-5494-4cd2-b67f-76a39fcc0871"
      },
      "execution_count": 1,
      "outputs": [
        {
          "output_type": "stream",
          "name": "stdout",
          "text": [
            "Digite o valor para ser calculado: R$1000\n",
            "O novo valor é R$ 850.0\n"
          ]
        }
      ]
    },
    {
      "cell_type": "markdown",
      "source": [
        "## Exercício 2"
      ],
      "metadata": {
        "id": "yBtustANB1CU"
      }
    },
    {
      "cell_type": "markdown",
      "source": [
        "Faça um programa que leia a validade das informações:\n",
        "\n",
        "    a. Idade: entre 0 e 150;\n",
        "\n",
        "    b. Salário: maior que 0;\n",
        "\n",
        "    c. Sexo: M, F ou Outro;\n",
        "\n",
        "O programa deve imprimir uma mensagem de erro para cada informação\n",
        "inválida"
      ],
      "metadata": {
        "id": "kpTYG5m_Y0Xa"
      }
    },
    {
      "cell_type": "code",
      "execution_count": 2,
      "metadata": {
        "id": "Bon-OsRnBJR7",
        "colab": {
          "base_uri": "https://localhost:8080/"
        },
        "outputId": "dd0d2b56-4709-4be5-8137-a2779736be13"
      },
      "outputs": [
        {
          "output_type": "stream",
          "name": "stdout",
          "text": [
            "Digite a sua idade em anos: 151\n",
            "Idade inválida, valores aceitos de 0 a 150\n",
            "Digite o seu salário: R$ -10\n",
            "Salário inválido: Digite um valor positivo\n",
            "Digite o seu sexo: w\n",
            "Sexo inválido: Digite M, F ou Outro\n"
          ]
        }
      ],
      "source": [
        "idade = input('Digite a sua idade em anos: ')\n",
        "if int(idade) < 0 or int(idade) > 150:\n",
        "    print('Idade inválida, valores aceitos de 0 a 150')\n",
        "\n",
        "salario = input('Digite o seu salário: R$ ')\n",
        "if float(salario) < 0:\n",
        "    print('Salário inválido: Digite um valor positivo')\n",
        "\n",
        "sexo = input('Digite o seu sexo: ')\n",
        "if sexo.lower() == 'm' or sexo.lower() =='f' or sexo.lower() =='outro':\n",
        "    pass\n",
        "else:\n",
        "    print('Sexo inválido: Digite M, F ou Outro')"
      ]
    },
    {
      "cell_type": "markdown",
      "source": [
        "## Exercício 3"
      ],
      "metadata": {
        "id": "wmt0GiPMckN_"
      }
    },
    {
      "cell_type": "markdown",
      "source": [
        "Vamos fazer um programa para verificar quem é o assassino de um crime.\n",
        "Para descobrir o assassino, a polícia faz um pequeno questionário com 5\n",
        "perguntas onde a resposta só pode ser sim ou não:\n",
        "\n",
        "    a. Mora perto da vítima?\n",
        "\n",
        "    b. Já trabalhou com a vítima?\n",
        "\n",
        "    c. Telefonou para a vítima?\n",
        "\n",
        "    d. Esteve no local do crime?\n",
        "\n",
        "    e. Devia para a vítima?\n",
        "\n",
        "Cada resposta sim dá um ponto para o suspeito. A polícia considera que os\n",
        "suspeitos com 5 pontos são os assassinos, com 4 a 3 pontos são cúmplices e\n",
        "2 pontos são apenas suspeitos, necessitando outras investigações. Valores\n",
        "iguais ou abaixo de 1 são liberados."
      ],
      "metadata": {
        "id": "eM2j0MsgcpM2"
      }
    },
    {
      "cell_type": "code",
      "source": [
        "print('Responda as perguntas com s para s e n para não')\n",
        "a = input('Mora perto da vítima? ')\n",
        "b = input('Já trabalhou com a vítima? ')\n",
        "c = input('Telefonou para a vítima? ')\n",
        "d = input('Esteve no local do crime? ')\n",
        "e = input('Devia para a vítima? ')\n",
        "respostas = [a.lower(),b.lower(),c.lower(),d.lower(),e.lower()]\n",
        "solucao = respostas.count('s')\n",
        "if solucao == 5:\n",
        "    print('Assassino')\n",
        "elif solucao == 3 or solucao == 4:\n",
        "    print('Cúmplice')\n",
        "elif solucao == 2:\n",
        "    print('Suspeito, necessita investigação')\n",
        "else:\n",
        "    print('Não é suspeito')"
      ],
      "metadata": {
        "colab": {
          "base_uri": "https://localhost:8080/"
        },
        "id": "7IILzTsvcmu_",
        "outputId": "65a01aae-bb2d-44a7-c41e-c1d15b2f0918"
      },
      "execution_count": 3,
      "outputs": [
        {
          "output_type": "stream",
          "name": "stdout",
          "text": [
            "Responda as perguntas com s para s e n para não\n",
            "Mora perto da vítima? s\n",
            "Já trabalhou com a vítima? s\n",
            "Telefonou para a vítima? s\n",
            "Esteve no local do crime? n\n",
            "Devia para a vítima? n\n",
            "Cúmplice\n"
          ]
        }
      ]
    },
    {
      "cell_type": "markdown",
      "source": [
        "## Exercício 4"
      ],
      "metadata": {
        "id": "dLZQqiXAhKqb"
      }
    },
    {
      "cell_type": "markdown",
      "source": [
        "Faça um programa que imprima a tabuada do 9 (de 9 * 1 a 9 * 10) usando loops."
      ],
      "metadata": {
        "id": "xMaACw6FhHyx"
      }
    },
    {
      "cell_type": "code",
      "source": [
        "for i in range(10):\n",
        "    print('9 * ',i+1, '=' ,(i+1)*9)"
      ],
      "metadata": {
        "colab": {
          "base_uri": "https://localhost:8080/"
        },
        "id": "KzEuB5_eeObP",
        "outputId": "0a0e70fc-7342-43e4-9717-fe9c61e8a96f"
      },
      "execution_count": 4,
      "outputs": [
        {
          "output_type": "stream",
          "name": "stdout",
          "text": [
            "9 *  1 = 9\n",
            "9 *  2 = 18\n",
            "9 *  3 = 27\n",
            "9 *  4 = 36\n",
            "9 *  5 = 45\n",
            "9 *  6 = 54\n",
            "9 *  7 = 63\n",
            "9 *  8 = 72\n",
            "9 *  9 = 81\n",
            "9 *  10 = 90\n"
          ]
        }
      ]
    },
    {
      "cell_type": "markdown",
      "source": [
        "# Módulo 2"
      ],
      "metadata": {
        "id": "zfYugKAZiXeQ"
      }
    },
    {
      "cell_type": "markdown",
      "source": [
        "## Exercício 1"
      ],
      "metadata": {
        "id": "MG937nc4ieGT"
      }
    },
    {
      "cell_type": "markdown",
      "source": [
        "Faça um programa que olhe todos os itens de uma lista e diga quantos deles\n",
        "são pares."
      ],
      "metadata": {
        "id": "BV_TQwQ-imZx"
      }
    },
    {
      "cell_type": "code",
      "source": [
        "import random\n",
        "\n",
        "numbers=[0]*20\n",
        "for n in range(20):\n",
        "    numbers[n] = random.randint(0,99)\n",
        "print(numbers)\n",
        "\n",
        "evens=0\n",
        "\n",
        "for i in numbers:\n",
        "    if i%2==0:\n",
        "        print(i)\n",
        "        evens+=1\n",
        "    else:\n",
        "        pass\n",
        "\n",
        "print('A lista contém', evens, 'números pares')"
      ],
      "metadata": {
        "id": "0TN_IIb9idII",
        "colab": {
          "base_uri": "https://localhost:8080/"
        },
        "outputId": "57b0efc2-1943-4093-da4d-d7ffbd368b1d"
      },
      "execution_count": 5,
      "outputs": [
        {
          "output_type": "stream",
          "name": "stdout",
          "text": [
            "[95, 89, 52, 38, 14, 90, 20, 1, 27, 51, 10, 3, 52, 72, 73, 77, 58, 92, 37, 44]\n",
            "52\n",
            "38\n",
            "14\n",
            "90\n",
            "20\n",
            "10\n",
            "52\n",
            "72\n",
            "58\n",
            "92\n",
            "44\n",
            "A lista contém 11 números pares\n"
          ]
        }
      ]
    },
    {
      "cell_type": "markdown",
      "source": [
        "## Exercício 2"
      ],
      "metadata": {
        "id": "70KgU1Kfxt8V"
      }
    },
    {
      "cell_type": "markdown",
      "source": [
        "Faça um programa que peça para o usuário digitar uma palavra e imprima\n",
        "cada letra em uma linha."
      ],
      "metadata": {
        "id": "T_HTlwUEx1Zz"
      }
    },
    {
      "cell_type": "code",
      "source": [
        "word = input('Digite uma palavra.\\n')\n",
        "for letter in word:\n",
        "    print(letter)"
      ],
      "metadata": {
        "colab": {
          "base_uri": "https://localhost:8080/"
        },
        "id": "Q8KAtNZChTKV",
        "outputId": "8b1dc824-aa96-4a3b-9d87-e0e3ead30614"
      },
      "execution_count": 6,
      "outputs": [
        {
          "output_type": "stream",
          "name": "stdout",
          "text": [
            "Digite uma palavra.\n",
            "word\n",
            "w\n",
            "o\n",
            "r\n",
            "d\n"
          ]
        }
      ]
    },
    {
      "cell_type": "markdown",
      "source": [
        "## Exercício 3"
      ],
      "metadata": {
        "id": "CDjVmqzJyxzS"
      }
    },
    {
      "cell_type": "markdown",
      "source": [
        "Faça uma função que recebe duas listas e retorna a soma item a item dessas\n",
        "listas.\n",
        "\n",
        "Exemplo: Se a função receber as listas [1,4,3] e [3,5,1], então a função deve\n",
        "retornar [1+3, 4+5, 3+1] = [4, 9, 4]."
      ],
      "metadata": {
        "id": "qdq-WxqFy1Wh"
      }
    },
    {
      "cell_type": "code",
      "source": [
        "lista1 = [1,2,3]\n",
        "lista2 = [4,5,6]\n",
        "      \n",
        "def soma_lista(lista1,lista2):\n",
        "    soma = []\n",
        "    for i in range(len(lista1)):\n",
        "        soma.append(lista1[i]+lista2[i])\n",
        "    return soma\n",
        "print(soma_lista(lista1,lista2))"
      ],
      "metadata": {
        "colab": {
          "base_uri": "https://localhost:8080/"
        },
        "id": "xUzegJpEyr_N",
        "outputId": "072dc3a8-fc59-4f63-c13c-90c5919b6fae"
      },
      "execution_count": 7,
      "outputs": [
        {
          "output_type": "stream",
          "name": "stdout",
          "text": [
            "[5, 7, 9]\n"
          ]
        }
      ]
    },
    {
      "cell_type": "markdown",
      "source": [
        "## Exercício 4"
      ],
      "metadata": {
        "id": "gzHFQ_Pz1EW-"
      }
    },
    {
      "cell_type": "markdown",
      "source": [
        "Crie um dicionário cujas chaves são os meses do ano e os valores são a\n",
        "duração (em dias) de cada mês"
      ],
      "metadata": {
        "id": "A_RBSPwh1JE2"
      }
    },
    {
      "cell_type": "code",
      "source": [
        "ano = {'janeiro':31,'fevereiro':28,'março':31,'abril':30,'maio':31,'junho':30,'julho':31,'agosto':31,'setembro':30,'outubro':31,'novembro':30,'dezembro':31}"
      ],
      "metadata": {
        "id": "8wVohXUA1Gq4"
      },
      "execution_count": 8,
      "outputs": []
    },
    {
      "cell_type": "markdown",
      "source": [
        "## Exercício 5"
      ],
      "metadata": {
        "id": "Zd66Ba5t3Cch"
      }
    },
    {
      "cell_type": "markdown",
      "source": [
        "Imprima as chaves seguidas dos seus valores para dicionário criado no\n",
        "exercício anterior.\n",
        "\n",
        "Exemplo: \n",
        "\n",
        "Janeiro - 31\n",
        "\n",
        "Fevereiro - 28\n",
        "\n",
        "Março - 31\n",
        "\n",
        "Etc..."
      ],
      "metadata": {
        "id": "zJM2Ub523NEf"
      }
    },
    {
      "cell_type": "code",
      "source": [
        "for i in ano:\n",
        "    print(i,'-',ano[i])"
      ],
      "metadata": {
        "colab": {
          "base_uri": "https://localhost:8080/"
        },
        "id": "6Me6iXma3MN5",
        "outputId": "aea0de75-84ee-4125-82c8-b8ecb4dcf6c4"
      },
      "execution_count": 9,
      "outputs": [
        {
          "output_type": "stream",
          "name": "stdout",
          "text": [
            "janeiro - 31\n",
            "fevereiro - 28\n",
            "março - 31\n",
            "abril - 30\n",
            "maio - 31\n",
            "junho - 30\n",
            "julho - 31\n",
            "agosto - 31\n",
            "setembro - 30\n",
            "outubro - 31\n",
            "novembro - 30\n",
            "dezembro - 31\n"
          ]
        }
      ]
    },
    {
      "cell_type": "markdown",
      "source": [
        "# Módulo 3"
      ],
      "metadata": {
        "id": "4uZT-P8t36GO"
      }
    },
    {
      "cell_type": "markdown",
      "source": [
        "Para os exercícios 1 ao 3, você precisará do arquivo: alunos.csv disponível em: https://s3-sa-east-1.amazonaws.com/lcpi/0f8eacaa-25d5-462e-84f4-4937489552d4.csv"
      ],
      "metadata": {
        "id": "1VgpuVlp4M-x"
      }
    },
    {
      "cell_type": "code",
      "source": [
        "alunos_csv = 'https://s3-sa-east-1.amazonaws.com/lcpi/0f8eacaa-25d5-462e-84f4-4937489552d4.csv'"
      ],
      "metadata": {
        "id": "PU98cFJS8kWD"
      },
      "execution_count": 10,
      "outputs": []
    },
    {
      "cell_type": "markdown",
      "source": [
        "## Exercício 1"
      ],
      "metadata": {
        "id": "YS7mJJlt39Ol"
      }
    },
    {
      "cell_type": "markdown",
      "source": [
        "Neste exercício você deve criar um programa que abra o arquivo\n",
        "\"alunos.csv\" e imprima o conteúdo do arquivo linha a linha.\n",
        "Note que esse é o primeiro exercício de uma sequência, então o seu código\n",
        "pode ser reaproveitado nos exercícios seguintes. Dito isso, a recomendação é\n",
        "usar a biblioteca CSV para ler o arquivo mesmo que não seja realmente\n",
        "necessário para esse primeiro item."
      ],
      "metadata": {
        "id": "_phiOxYr4AW1"
      }
    },
    {
      "cell_type": "markdown",
      "source": [
        "### Local File"
      ],
      "metadata": {
        "id": "4-9vM2_kfOr0"
      }
    },
    {
      "cell_type": "code",
      "source": [
        "import csv\n",
        "with open('alunos.csv','r') as csv_file:\n",
        "    reader = csv.reader(csv_file)\n",
        "    for lines in reader:\n",
        "        print(lines)"
      ],
      "metadata": {
        "id": "_j65hMdQfSeT"
      },
      "execution_count": null,
      "outputs": []
    },
    {
      "cell_type": "markdown",
      "source": [
        "### Requests"
      ],
      "metadata": {
        "id": "hbU9p538BOfS"
      }
    },
    {
      "cell_type": "code",
      "source": [
        "import requests as r\n",
        "response = r.get(alunos_csv)\n",
        "csv_file = response.content.decode('utf-8')\n",
        "lines = csv_file.split('\\n')\n",
        "for line in lines:\n",
        "    print(line)"
      ],
      "metadata": {
        "colab": {
          "base_uri": "https://localhost:8080/"
        },
        "id": "XOLQhCWNBUP0",
        "outputId": "a9701fcc-697b-4141-cf68-6e9940c07c1f"
      },
      "execution_count": 11,
      "outputs": [
        {
          "output_type": "stream",
          "name": "stdout",
          "text": [
            "RA,Nome,Frequencia,Prova_1,Prova_2,Prova_3,Prova_4\n",
            "110201,Antonio Carlos,20,6.5,8.5,7,6\n",
            "110212,Ana Beatriz,20,7,7,7,8\n",
            "110218,Carlos Vernes,17,7,7,7,7\n",
            "110307,Francisco Cunha,20,9,8.5,8.5,10\n",
            "110275,Sandra Rosa,15,6.5,7.5,7,7\n",
            "110281,Juliana Arruda,18,7.5,7,7.5,8\n",
            "110301,Joao Galo,20,5,6.5,7,5\n",
            "110263,José Valente,20,10,10,10,10\n",
            "110271,Maria Ferreira,19,9.5,8,7,10\n",
            "110236,Adriana Tavares,20,8,8,8,8\n",
            "\n"
          ]
        }
      ]
    },
    {
      "cell_type": "markdown",
      "source": [
        "### Pandas"
      ],
      "metadata": {
        "id": "B9RVDV9XBHrj"
      }
    },
    {
      "cell_type": "code",
      "source": [
        "import pandas as pd\n",
        "arquivo = pd.read_csv(alunos_csv)\n",
        "print(arquivo)"
      ],
      "metadata": {
        "colab": {
          "base_uri": "https://localhost:8080/"
        },
        "id": "MgZ0brkD3tN_",
        "outputId": "b05c3774-20fc-49fa-da89-4f28a8665a7a"
      },
      "execution_count": 12,
      "outputs": [
        {
          "output_type": "stream",
          "name": "stdout",
          "text": [
            "       RA             Nome  Frequencia  Prova_1  Prova_2  Prova_3  Prova_4\n",
            "0  110201   Antonio Carlos          20      6.5      8.5      7.0        6\n",
            "1  110212      Ana Beatriz          20      7.0      7.0      7.0        8\n",
            "2  110218    Carlos Vernes          17      7.0      7.0      7.0        7\n",
            "3  110307  Francisco Cunha          20      9.0      8.5      8.5       10\n",
            "4  110275      Sandra Rosa          15      6.5      7.5      7.0        7\n",
            "5  110281   Juliana Arruda          18      7.5      7.0      7.5        8\n",
            "6  110301        Joao Galo          20      5.0      6.5      7.0        5\n",
            "7  110263     José Valente          20     10.0     10.0     10.0       10\n",
            "8  110271   Maria Ferreira          19      9.5      8.0      7.0       10\n",
            "9  110236  Adriana Tavares          20      8.0      8.0      8.0        8\n"
          ]
        }
      ]
    },
    {
      "cell_type": "markdown",
      "source": [
        "## Exercício 2"
      ],
      "metadata": {
        "id": "MWgZmIEcATFw"
      }
    },
    {
      "cell_type": "markdown",
      "source": [
        "Para o segundo exercício, você deve criar um programa que realize uma\n",
        "cópia do arquivo \"alunos.csv\". Essa cópia deve ser um arquivo chamado\n",
        "\"alunos_copia.csv\"."
      ],
      "metadata": {
        "id": "nGudHyO3AWPb"
      }
    },
    {
      "cell_type": "code",
      "source": [
        "import csv\n",
        "\n",
        "with open('alunos_copia.csv', 'w', encoding='UTF8') as f:\n",
        "    writer = csv.writer(f)\n",
        "    writer.writerow(lines)"
      ],
      "metadata": {
        "id": "WdN6o0_iAVkv"
      },
      "execution_count": 13,
      "outputs": []
    },
    {
      "cell_type": "markdown",
      "source": [
        "## Exercício 3"
      ],
      "metadata": {
        "id": "42_kPKN_wN4k"
      }
    },
    {
      "cell_type": "markdown",
      "source": [
        "Finalmente chegamos ao último exercício dessa sequência relacionada à manipulação de arquivos.\n",
        "\n",
        "Neste exercício você deve criar um novo arquivo chamado \"alunos_media.csv\". Esse novo arquivo é uma cópia de \"alunos.csv\" porém com uma coluna a mais chamada \"Média\" que vai abrigar os valores das médias das provas de cada aluno da lista.\n",
        "\n",
        "Se você utilizou a biblioteca CSV para realizar os dois primeiros exercícios, muito será reaproveitado aqui. A biblioteca CSV permite a interpretação de cada linha como listas, que são fáceis de manipular."
      ],
      "metadata": {
        "id": "zn2TuHmWwQ4T"
      }
    },
    {
      "cell_type": "code",
      "source": [
        "arquivo['Média'] = (arquivo['Prova_1']+arquivo['Prova_2']+arquivo['Prova_3']+arquivo['Prova_4'])/4\n",
        "print(arquivo)\n",
        "arquivo.to_csv(\"alunos_media.csv\",index=False)"
      ],
      "metadata": {
        "colab": {
          "base_uri": "https://localhost:8080/"
        },
        "id": "PwJecunsy2p2",
        "outputId": "02c3a15a-a514-412f-8ec4-2b2043aa095d"
      },
      "execution_count": 14,
      "outputs": [
        {
          "output_type": "stream",
          "name": "stdout",
          "text": [
            "       RA             Nome  Frequencia  Prova_1  Prova_2  Prova_3  Prova_4  \\\n",
            "0  110201   Antonio Carlos          20      6.5      8.5      7.0        6   \n",
            "1  110212      Ana Beatriz          20      7.0      7.0      7.0        8   \n",
            "2  110218    Carlos Vernes          17      7.0      7.0      7.0        7   \n",
            "3  110307  Francisco Cunha          20      9.0      8.5      8.5       10   \n",
            "4  110275      Sandra Rosa          15      6.5      7.5      7.0        7   \n",
            "5  110281   Juliana Arruda          18      7.5      7.0      7.5        8   \n",
            "6  110301        Joao Galo          20      5.0      6.5      7.0        5   \n",
            "7  110263     José Valente          20     10.0     10.0     10.0       10   \n",
            "8  110271   Maria Ferreira          19      9.5      8.0      7.0       10   \n",
            "9  110236  Adriana Tavares          20      8.0      8.0      8.0        8   \n",
            "\n",
            "    Média  \n",
            "0   7.000  \n",
            "1   7.250  \n",
            "2   7.000  \n",
            "3   9.000  \n",
            "4   7.000  \n",
            "5   7.500  \n",
            "6   5.875  \n",
            "7  10.000  \n",
            "8   8.625  \n",
            "9   8.000  \n"
          ]
        }
      ]
    },
    {
      "cell_type": "markdown",
      "source": [
        "## Exercício 4"
      ],
      "metadata": {
        "id": "ECh9UIs3_kcR"
      }
    },
    {
      "cell_type": "markdown",
      "source": [
        "Você conhece Star Wars? Se trata, obviamente, da famosa saga espacial criada por George Lucas em 1977 e que deu origem a símbolos do cinema e da cultura pop com o imponente vilão Darth Vader ou o simpático robô R2-D2. A ideia desse exercício é justamente extrair informações do personagem Darth Vader através de uma API de Star Wars chamada SWAPI.\n",
        "\n",
        "Utilize a URL \"https://swapi.dev/api/people/4/\" para fazer a requisição dos dados de Darth Vader e extraia as informações \"name\" (nome), \"height\" (altura), \"mass\" (massa) e \"birth_year\" (ano de nascimento) e imprima cada dado em uma linha.\n",
        "\n",
        "Dica: caso não se lembre de como fazer isso, assista novamente a aula sobre\n",
        "API porque o exemplo da aula pode te ajudar."
      ],
      "metadata": {
        "id": "nJn5cOAS_oKg"
      }
    },
    {
      "cell_type": "code",
      "source": [
        "darth_url = \"https://swapi.dev/api/people/4/\""
      ],
      "metadata": {
        "id": "JlYw0Tse__4p"
      },
      "execution_count": 15,
      "outputs": []
    },
    {
      "cell_type": "code",
      "source": [
        "darth_data = r.get(darth_url)\n",
        "print(darth_data.status_code)"
      ],
      "metadata": {
        "colab": {
          "base_uri": "https://localhost:8080/"
        },
        "id": "CsocasB0AEpe",
        "outputId": "ebc4599b-b5f0-4d9f-9bbf-08f113c29605"
      },
      "execution_count": 16,
      "outputs": [
        {
          "output_type": "stream",
          "name": "stdout",
          "text": [
            "200\n"
          ]
        }
      ]
    },
    {
      "cell_type": "code",
      "source": [
        "darth_dict = darth_data.json()\n",
        "print(darth_dict)"
      ],
      "metadata": {
        "colab": {
          "base_uri": "https://localhost:8080/"
        },
        "id": "1fdJ6gUjAqrN",
        "outputId": "adda47a1-1501-4095-85e4-f0260e3f0037"
      },
      "execution_count": 17,
      "outputs": [
        {
          "output_type": "stream",
          "name": "stdout",
          "text": [
            "{'name': 'Darth Vader', 'height': '202', 'mass': '136', 'hair_color': 'none', 'skin_color': 'white', 'eye_color': 'yellow', 'birth_year': '41.9BBY', 'gender': 'male', 'homeworld': 'https://swapi.dev/api/planets/1/', 'films': ['https://swapi.dev/api/films/1/', 'https://swapi.dev/api/films/2/', 'https://swapi.dev/api/films/3/', 'https://swapi.dev/api/films/6/'], 'species': [], 'vehicles': [], 'starships': ['https://swapi.dev/api/starships/13/'], 'created': '2014-12-10T15:18:20.704000Z', 'edited': '2014-12-20T21:17:50.313000Z', 'url': 'https://swapi.dev/api/people/4/'}\n"
          ]
        }
      ]
    },
    {
      "cell_type": "code",
      "source": [
        "print('Nome:',darth_dict[\"name\"], '\\n', 'Altura:', darth_dict[\"height\"], '\\n', 'Massa:', darth_dict[\"mass\"], '\\n', 'Ano de nascimento:',  darth_dict[\"birth_year\"])"
      ],
      "metadata": {
        "colab": {
          "base_uri": "https://localhost:8080/"
        },
        "id": "KJodjyzIA_v4",
        "outputId": "4c95f36f-6d97-4fd6-eff7-ef4d25078a2f"
      },
      "execution_count": 18,
      "outputs": [
        {
          "output_type": "stream",
          "name": "stdout",
          "text": [
            "Nome: Darth Vader \n",
            " Altura: 202 \n",
            " Massa: 136 \n",
            " Ano de nascimento: 41.9BBY\n"
          ]
        }
      ]
    },
    {
      "cell_type": "markdown",
      "source": [
        "## Exercício 5"
      ],
      "metadata": {
        "id": "eGDEsWDpDToZ"
      }
    },
    {
      "cell_type": "markdown",
      "source": [
        "Em 2019 surgiram os primeiros casos de COVID-19 que se alastrou pelo mundo resultando numa pandemia. A proposta deste exercício é utilizar uma API com informações de COVID-19 do mundo todo desde o início da proliferação e descobrir que dia o Brasil confirmou o primeiro caso de Coronavírus.\n",
        "\n",
        "Para fazer isso, utilize a URL https://api.covid19api.com/country/brazil em seu código. Ela retorna uma lista de dicionários, onde cada dicionário traz informações através das chaves:\n",
        "\n",
        "\"ID\", \"Country\", \"CountryCode\", \"Province\", \"City\", \"CityCode\",\"Lat\",\"Lon\", Confirmed\",\"Deaths\", \"Recovered\", \"Active\" e \"Date\".\n",
        "\n",
        "Utilize essas informações e retorne a data em que o Brasil confirmou o\n",
        "primeiro caso de COVID."
      ],
      "metadata": {
        "id": "Bn69VulyDWe0"
      }
    },
    {
      "cell_type": "code",
      "source": [
        "covid_url = \"https://api.covid19api.com/country/brazil\"\n",
        "covid_data = r.get(covid_url)\n",
        "print(covid_data.status_code)"
      ],
      "metadata": {
        "colab": {
          "base_uri": "https://localhost:8080/"
        },
        "id": "ESHZmG85DqOx",
        "outputId": "c44fd6ce-2347-4462-d4a9-ed71b7fc10bb"
      },
      "execution_count": 19,
      "outputs": [
        {
          "output_type": "stream",
          "name": "stdout",
          "text": [
            "200\n"
          ]
        }
      ]
    },
    {
      "cell_type": "code",
      "source": [
        "c19_data = covid_data.json()"
      ],
      "metadata": {
        "id": "oS6_Hl7JEqya"
      },
      "execution_count": 23,
      "outputs": []
    },
    {
      "cell_type": "code",
      "source": [
        "for i in c19_data:\n",
        "    if i['Confirmed'] == 1:\n",
        "        print('Primeiro caso confirmado de covid19 no Brasil foi em:',i['Date'])\n",
        "        break"
      ],
      "metadata": {
        "colab": {
          "base_uri": "https://localhost:8080/"
        },
        "id": "LB7wzV8zEyq8",
        "outputId": "6236d1fa-414d-43dd-a136-f098c78cb65a"
      },
      "execution_count": 24,
      "outputs": [
        {
          "output_type": "stream",
          "name": "stdout",
          "text": [
            "Primeiro caso confirmado de covid19 no Brasil foi em: 2020-02-26T00:00:00Z\n"
          ]
        }
      ]
    }
  ]
}